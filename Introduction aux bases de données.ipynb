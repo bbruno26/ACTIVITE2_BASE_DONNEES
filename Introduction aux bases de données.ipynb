{
 "cells": [
  {
   "cell_type": "markdown",
   "metadata": {},
   "source": [
    "\n",
    "# NSI TERMINAL      LES BASES DE DONNEES\n",
    "\n",
    "# ACTIVITE N°2 /---------LES BASES DU LANGAGE SQL \n",
    "\n",
    "\n",
    "\n",
    "\n",
    "\n",
    "SPECIALITE NSI TERMINAL ------------------------------------------------------------------------- Lycée Gaston Monnerville\n",
    "\n",
    "-----------------------------------------------------------------------------\n",
    "-----------------------------------------------------------------------------"
   ]
  },
  {
   "cell_type": "markdown",
   "metadata": {},
   "source": [
    "## A) INSTALLATION DES MODULES\n",
    "=========================================================\n",
    "\n",
    "\n",
    "Il est nécessaire, si les modules ne sont pas chargés automatiquement, de le faire, afin d'utiliser des commandes SQL directement dans l'interpréteur python.\n",
    "Ici nous avons besoin des modules jupiter-sql et ipython-sql, dont vous trouverez la documentation ici :\n",
    "* [La documentation du module ipython-sql](https://github.com/catherinedevlin/ipython-sql)\n",
    "* [La documentation du module jupiter-sql](https://jupyter.org/)\n",
    "\n",
    "\n",
    "Enfin nous travaillons sur des bases SQLite dont vous trouverez la documentation [ICI](https://riptutorial.com/fr/sqlite).\n",
    "\n"
   ]
  },
  {
   "cell_type": "code",
   "execution_count": null,
   "metadata": {},
   "outputs": [],
   "source": [
    "pip install jupyter-sql\n",
    "pip install ipython-sql"
   ]
  },
  {
   "cell_type": "markdown",
   "metadata": {},
   "source": [
    "Attention !!! Une erreur peut être générée suivant l'état de l'interface, ce qui est normal !\n",
    "\n",
    "![Une réunion réussie](1_cEKvZI4GgZR6NsfbAhVRyA.jpeg)"
   ]
  },
  {
   "cell_type": "markdown",
   "metadata": {},
   "source": [
    "## B) MISE EN PLACE DE L'INTERFACE\n",
    "=============================================================\n",
    "\n",
    "\n",
    "Premièrement nous chargeons l'extension python sql, ce qui va nous permettre d'écrire directement des instructions sql après le caractère **%sql**.\n",
    "\n",
    "En même temps, nous chargeons les autres modules nécessaires.\n",
    "    "
   ]
  },
  {
   "cell_type": "code",
   "execution_count": null,
   "metadata": {},
   "outputs": [],
   "source": [
    "%load_ext sql"
   ]
  },
  {
   "cell_type": "markdown",
   "metadata": {},
   "source": [
    "## C) CREATION DE LA BASE DE DONNEES\n",
    "=================================================================\n",
    "\n",
    "\n",
    "Nous allons créer une base de données \"élèves du lycée\" comme présenter sur le schéma suivant :\n",
    "![schéma de la base](ElevesLycee.gif)\n"
   ]
  },
  {
   "cell_type": "code",
   "execution_count": null,
   "metadata": {},
   "outputs": [],
   "source": [
    "%sql sqlite:///eleves_Lycee_Gaston_Monnerville"
   ]
  },
  {
   "cell_type": "markdown",
   "metadata": {},
   "source": [
    "Maintenant créons notre première table \"Eleves\"de la manière suivante,"
   ]
  },
  {
   "cell_type": "code",
   "execution_count": null,
   "metadata": {},
   "outputs": [],
   "source": [
    "%%sql \n",
    "CREATE TABLE Eleves \n",
    "(\n",
    "IdEleve INTEGER  PRIMARY KEY,\n",
    "nom     TEXT,\n",
    "prenom  TEXT,\n",
    "adresse TEXT,\n",
    "cp   TEXT,\n",
    "ville TEXT,\n",
    "telFixe TEXT,\n",
    "telPortable TEXT\n",
    ");"
   ]
  },
  {
   "cell_type": "markdown",
   "metadata": {},
   "source": [
    "Ici il n'y a pas de clé étrangère dans la table, mais dans le cas où il y en a une, il suffit d'ajouter :\n",
    "\n",
    "FOREIGN KEY(attribut) REFERENCES table(attribut) à la création.\n",
    "\n",
    "Maintenant ajoutons à notre base des élèves:\n"
   ]
  },
  {
   "cell_type": "code",
   "execution_count": null,
   "metadata": {},
   "outputs": [],
   "source": [
    "%%sql\n",
    "INSERT INTO Eleves \n",
    "    \n",
    "VALUES\n",
    "    (1,\"hugo\",\"victor\",\"Rue ecoute pluie\",\"97310\",\"KOUROU\",\"0594223586\",\"0694721792\"),\n",
    "    (2,\"premier\",\"François\",\"Avenue des roches\",\"97310\",\"KOUROU\",\"0594586545\",\"0694112233\");"
   ]
  },
  {
   "cell_type": "markdown",
   "metadata": {},
   "source": [
    "En utilisant l'instruction SELECT du langage sql, nous pouvons vérifier si notre base a été changée."
   ]
  },
  {
   "cell_type": "code",
   "execution_count": null,
   "metadata": {},
   "outputs": [],
   "source": [
    "%%sql\n",
    "\n",
    "SELECT * FROM Eleves;"
   ]
  },
  {
   "cell_type": "markdown",
   "metadata": {},
   "source": [
    "Nous pouvons même affecter cette ligne de code à une variable !"
   ]
  },
  {
   "cell_type": "code",
   "execution_count": null,
   "metadata": {
    "scrolled": true
   },
   "outputs": [],
   "source": [
    "resultat = %sql SELECT * FROM Eleves;"
   ]
  },
  {
   "cell_type": "markdown",
   "metadata": {},
   "source": [
    "Et voir le résultat, comme cela :"
   ]
  },
  {
   "cell_type": "code",
   "execution_count": null,
   "metadata": {},
   "outputs": [],
   "source": [
    "print(resultat)"
   ]
  },
  {
   "cell_type": "markdown",
   "metadata": {},
   "source": [
    "Ou encore de la manière brute suivante ,"
   ]
  },
  {
   "cell_type": "code",
   "execution_count": null,
   "metadata": {},
   "outputs": [],
   "source": [
    "resultat"
   ]
  },
  {
   "cell_type": "markdown",
   "metadata": {},
   "source": [
    "Noter qu'il est possible d'accéder à chaque enregistrement (uplet). Voir ci-après."
   ]
  },
  {
   "cell_type": "code",
   "execution_count": null,
   "metadata": {},
   "outputs": [],
   "source": [
    "resultat[0]"
   ]
  },
  {
   "cell_type": "code",
   "execution_count": null,
   "metadata": {},
   "outputs": [],
   "source": [
    "resultat[1]"
   ]
  },
  {
   "cell_type": "markdown",
   "metadata": {},
   "source": [
    "## D) A VOUS DE JOUER !\n",
    "==================================================\n",
    "\n",
    "\n",
    "Maintenant vous allez créer la table Inscriptions.\n",
    "Je vous aide un peu,\n"
   ]
  },
  {
   "cell_type": "code",
   "execution_count": null,
   "metadata": {},
   "outputs": [],
   "source": [
    "%%sql \n",
    "CREATE TABLE Inscriptions \n",
    "(\n",
    "# attribut1 INTEGER  PRIMARY KEY,\n",
    "# IdEleve TYPE,\n",
    "# attribut3 TYPE,\n",
    "FOREIGN KEY(IdEleve) REFERENCES Eleves(IdEleve)\n",
    "\n",
    ");"
   ]
  },
  {
   "cell_type": "markdown",
   "metadata": {},
   "source": [
    "De nouveau pour la table Matières,"
   ]
  },
  {
   "cell_type": "code",
   "execution_count": null,
   "metadata": {},
   "outputs": [],
   "source": [
    "#A vous de compléter\n",
    "#.............\n",
    "#..............\n",
    "#..............\n",
    "#..............\n",
    "#..............\n"
   ]
  },
  {
   "cell_type": "markdown",
   "metadata": {},
   "source": [
    "Et pour finir la table Enseignants,"
   ]
  },
  {
   "cell_type": "code",
   "execution_count": null,
   "metadata": {},
   "outputs": [],
   "source": [
    "#A vous de compléter\n",
    "#.............\n",
    "#..............\n",
    "#..............\n",
    "#..............\n",
    "#..............\n",
    "#.............\n",
    "#..............\n",
    "#..............\n",
    "#.............."
   ]
  },
  {
   "cell_type": "markdown",
   "metadata": {},
   "source": [
    "Et la table Résultat,"
   ]
  },
  {
   "cell_type": "code",
   "execution_count": null,
   "metadata": {},
   "outputs": [],
   "source": [
    "#A vous de compléter\n",
    "#.............\n",
    "#..............\n",
    "#..............\n",
    "#..............\n",
    "#.............."
   ]
  },
  {
   "cell_type": "markdown",
   "metadata": {},
   "source": [
    "Nous sommes arrivés à la fin, de la création.\n",
    "Il suffit d'enregistrer de nouveaux p-uplets dans chaque table de la manière suivante :\n",
    "Ici pour la table enseignant,"
   ]
  },
  {
   "cell_type": "code",
   "execution_count": null,
   "metadata": {},
   "outputs": [],
   "source": [
    "%%sql\n",
    "INSERT INTO Enseignants \n",
    "    \n",
    "VALUES\n",
    "    (1,\"barske\",\"bruno\",\"19 rue Alexander Fleming\",\"97310\",\"KOUROU\",\"0594220188\",\"0694272892\");"
   ]
  },
  {
   "cell_type": "markdown",
   "metadata": {},
   "source": [
    "Insérer un nouvelle uplet dans la table Enseignants, voire plusieurs......."
   ]
  },
  {
   "cell_type": "code",
   "execution_count": null,
   "metadata": {},
   "outputs": [],
   "source": [
    "#A vous de compléter\n",
    "#.............\n",
    "#..............\n",
    "#..............\n",
    "#..............\n",
    "#.............."
   ]
  },
  {
   "cell_type": "markdown",
   "metadata": {},
   "source": [
    "Puis dans les autres tables, Matières, Resultats, Inscriptions."
   ]
  },
  {
   "cell_type": "code",
   "execution_count": null,
   "metadata": {},
   "outputs": [],
   "source": [
    "#A vous de compléter\n",
    "#.............\n",
    "#..............\n",
    "#..............\n",
    "#..............\n",
    "#.............."
   ]
  },
  {
   "cell_type": "markdown",
   "metadata": {},
   "source": [
    "Et compléter la table Eleves, avec les uplets composés des élèves de la classe :"
   ]
  },
  {
   "cell_type": "code",
   "execution_count": null,
   "metadata": {},
   "outputs": [],
   "source": [
    "#A vous de compléter\n",
    "#.............\n",
    "#..............\n",
    "#..............\n",
    "#..............\n",
    "#.............."
   ]
  },
  {
   "cell_type": "markdown",
   "metadata": {},
   "source": [
    "## E) VISUALISATION DE LA BASE\n",
    "====================================================\n",
    "\n"
   ]
  },
  {
   "cell_type": "markdown",
   "metadata": {},
   "source": [
    "Afin de vérifier votre travail, proposer un certain nombre de lignes de code pour afficher les tables."
   ]
  },
  {
   "cell_type": "code",
   "execution_count": 1,
   "metadata": {},
   "outputs": [],
   "source": [
    "#A vous de compléter\n",
    "#.............\n",
    "#..............\n",
    "#..............\n",
    "#..............\n",
    "#.............."
   ]
  },
  {
   "cell_type": "code",
   "execution_count": null,
   "metadata": {},
   "outputs": [],
   "source": []
  }
 ],
 "metadata": {
  "kernelspec": {
   "display_name": "Python 3",
   "language": "python",
   "name": "python3"
  },
  "language_info": {
   "codemirror_mode": {
    "name": "ipython",
    "version": 3
   },
   "file_extension": ".py",
   "mimetype": "text/x-python",
   "name": "python",
   "nbconvert_exporter": "python",
   "pygments_lexer": "ipython3",
   "version": "3.7.6"
  }
 },
 "nbformat": 4,
 "nbformat_minor": 4
}
